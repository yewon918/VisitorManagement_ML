{
 "cells": [
  {
   "cell_type": "code",
   "execution_count": 5,
   "id": "7c3b8c52",
   "metadata": {},
   "outputs": [
    {
     "name": "stdout",
     "output_type": "stream",
     "text": [
      "\n",
      " enter user id end press <return> ==> 1\n",
      "\n",
      " [INFO] Initializing face capture. Look the camera and wait ...\n",
      "\n",
      " [INFO] Exiting Program and cleanup stuff\n",
      "['1']\n"
     ]
    }
   ],
   "source": [
    "import cv2\n",
    "\n",
    "#classifier\n",
    "faceCascade = cv2.CascadeClassifier('../.././anaconda3\\envs\\py38\\Library\\etc\\haarcascades/haarcascade_frontalface_default.xml')\n",
    "\n",
    "#video caputure setting\n",
    "capture = cv2.VideoCapture(0)\n",
    "capture.set(cv2.CAP_PROP_FRAME_WIDTH,1280) \n",
    "capture.set(cv2.CAP_PROP_FRAME_HEIGHT,720)\n",
    "# 정상작동시 true\n",
    "\n",
    "#console message  - int형으로 입력받음\n",
    "names = []\n",
    "\n",
    "face_id = input('\\n enter user id end press <return> ==> ')\n",
    "names.append(face_id)    # names를 append 하게 함\n",
    "print(\"\\n [INFO] Initializing face capture. Look the camera and wait ...\")\n",
    "\n",
    "count = 0 # # of caputre face images\n",
    "#영상 처리 및 출력\n",
    "while True: \n",
    "    ret, frame = capture.read() #카메라 상태 및 프레임\n",
    "    gray = cv2.cvtColor(frame, cv2.COLOR_BGR2GRAY)\n",
    "    faces = faceCascade.detectMultiScale(\n",
    "        gray,\n",
    "        scaleFactor = 1.2,\n",
    "        minNeighbors = 6, \n",
    "        minSize=(20,20) #얼굴 최소 크기. 이것보다 작으면 무시\n",
    "    )\n",
    "\n",
    "    #얼굴에 대해 rectangle 출력\n",
    "    for (x,y,w,h) in faces:\n",
    "        cv2.rectangle(frame,(x,y),(x+w,y+h),(255,0,0),2)\n",
    "        count += 1\n",
    "        cv2.imwrite(\"./dataset/User.\"+str(face_id)+'.'+str(count)+\".jpg\",gray[y:y+h, x:x+w])\n",
    "        \n",
    "    cv2.imshow('image',frame)\n",
    "\n",
    "\t#종료조건\n",
    "    if cv2.waitKey(1) > 0 : break #키 입력이 있을 때 반복문 종료\n",
    "    elif count >= 100 : break #100 face sample\n",
    "\n",
    "\n",
    "print(\"\\n [INFO] Exiting Program and cleanup stuff\")\n",
    "print(names)\n",
    "\n",
    "capture.release() #메모리 해제\n",
    "cv2.destroyAllWindows()#모든 윈도우 창 닫기\n"
   ]
  },
  {
   "cell_type": "markdown",
   "id": "dfa164f5",
   "metadata": {},
   "source": [
    "얼굴 수집 후 학습"
   ]
  },
  {
   "cell_type": "code",
   "execution_count": 9,
   "id": "61be97e3",
   "metadata": {},
   "outputs": [
    {
     "name": "stdout",
     "output_type": "stream",
     "text": [
      "\n",
      " [INFO] Training faces. It will take a few seconds. Wait ...\n",
      "\n",
      " [INFO] 2 faces trained. Exiting Program\n"
     ]
    }
   ],
   "source": [
    "import cv2\n",
    "import numpy as np #배열 계산 용이\n",
    "from PIL import Image #python imaging library\n",
    "import os\n",
    "\n",
    "path = 'dataset' #경로 (dataset 폴더)\n",
    "recognizer = cv2.face.LBPHFaceRecognizer_create()\n",
    "detector = cv2.CascadeClassifier(r\"C:\\Users\\Yewon\\anaconda3\\envs\\py38\\Library\\etc\\haarcascades\\haarcascade_frontalface_default.xml\")\n",
    "\n",
    "def getImagesAndLabels(path):\n",
    "    imagePaths = [os.path.join(path,f) for f in os.listdir(path)]\n",
    "\n",
    "\n",
    "    faceSamples = []\n",
    "    ids = []\n",
    "    for imagePath in imagePaths: #각 파일마다\n",
    "        PIL_img = Image.open(imagePath).convert('L') #L : 8 bit pixel, bw\n",
    "        img_numpy = np.array(PIL_img, 'uint8')\n",
    "\n",
    "        #user id\n",
    "        id = int(os.path.split(imagePath)[-1].split(\".\")[1])#마지막 index : -1\n",
    "        \n",
    "        #얼굴 샘플\n",
    "        faces = detector.detectMultiScale(img_numpy)\n",
    "        for(x,y,w,h) in faces:\n",
    "            faceSamples.append(img_numpy[y:y+h,x:x+w])\n",
    "            ids.append(id)\n",
    "\n",
    "    return faceSamples, ids\n",
    "\n",
    "\n",
    "print('\\n [INFO] Training faces. It will take a few seconds. Wait ...')\n",
    "faces, ids = getImagesAndLabels(path)\n",
    "recognizer.train(faces,np.array(ids)) #학습\n",
    "\n",
    "recognizer.write('trainer/trainer.yml')   # trainer 폴더 만들기\n",
    "print('\\n [INFO] {0} faces trained. Exiting Program'.format(len(np.unique(ids))))"
   ]
  },
  {
   "cell_type": "code",
   "execution_count": 10,
   "id": "37dcdf30",
   "metadata": {},
   "outputs": [
    {
     "name": "stdout",
     "output_type": "stream",
     "text": [
      "\n",
      " [INFO] Exiting Program and cleanup stuff\n"
     ]
    }
   ],
   "source": [
    "import cv2\n",
    "import numpy as np\n",
    "\n",
    "recognizer = cv2.face.LBPHFaceRecognizer_create()\n",
    "recognizer.read('trainer/trainer.yml')\n",
    "cascadePath = 'haarcascade_frontalface_default.xml'\n",
    "faceCascade = cv2.CascadeClassifier(r\"C:\\Users\\Yewon\\anaconda3\\envs\\py38\\Library\\etc\\haarcascades\\haarcascade_frontalface_default.xml\")\n",
    "\n",
    "font = cv2.FONT_HERSHEY_SIMPLEX\n",
    "\n",
    "\n",
    "cam = cv2.VideoCapture(0)\n",
    "cam.set(cv2.CAP_PROP_FRAME_WIDTH, 1980)\n",
    "cam.set(cv2.CAP_PROP_FRAME_HEIGHT, 720)\n",
    "\n",
    "minW = 0.1 * cam.get(cv2.CAP_PROP_FRAME_WIDTH)\n",
    "minH = 0.1 * cam.get(cv2.CAP_PROP_FRAME_HEIGHT)\n",
    "\n",
    "\n",
    "\n",
    "#print(ids)\n",
    "#names.append(ids)   # names 지정\n",
    "\n",
    "# print(names)\n",
    "\n",
    "while True:\n",
    "    ret, img = cam.read()\n",
    "    gray = cv2.cvtColor(img, cv2.COLOR_BGR2GRAY)\n",
    "\n",
    "    faces = faceCascade.detectMultiScale(\n",
    "        gray,\n",
    "        scaleFactor=1.2,\n",
    "        minNeighbors=6,\n",
    "        minSize=(int(minW), int(minH))\n",
    "    )\n",
    "\n",
    "    for(x,y,w,h) in faces:\n",
    "        cv2.rectangle(img, (x,y), (x+w,y+h), (0,255,0),2)\n",
    "        id, confidence = recognizer.predict(gray[y:y+h, x:x+w])\n",
    "        \n",
    "        if confidence < 55 :\n",
    "            put_name = id\n",
    "            # name을 거치지 않고 id를 출력하게 함. 이후 출력된 id는 db로 보내야함\n",
    "            \n",
    "        else:\n",
    "            put_name = \"unknown\"\n",
    "        \n",
    "        confidence = \"  {0}%\".format(round(100-confidence))\n",
    "\n",
    "        cv2.putText(img,str(id), (x+5,y-5),font,1,(255,255,255),2)\n",
    "        cv2.putText(img,str(confidence), (x+5,y+h-5),font,1,(255,255,0),1)\n",
    "    \n",
    "    cv2.imshow('camera',img)\n",
    "    if cv2.waitKey(1) > 0 : break\n",
    "\n",
    "print(\"\\n [INFO] Exiting Program and cleanup stuff\")\n",
    "cam.release()\n",
    "cv2.destroyAllWindows()"
   ]
  },
  {
   "cell_type": "code",
   "execution_count": null,
   "id": "db0bd24b",
   "metadata": {},
   "outputs": [],
   "source": []
  },
  {
   "cell_type": "code",
   "execution_count": null,
   "id": "b483892f",
   "metadata": {},
   "outputs": [],
   "source": []
  },
  {
   "cell_type": "code",
   "execution_count": null,
   "id": "2092db58",
   "metadata": {},
   "outputs": [],
   "source": []
  },
  {
   "cell_type": "code",
   "execution_count": null,
   "id": "abfd1024",
   "metadata": {},
   "outputs": [],
   "source": []
  }
 ],
 "metadata": {
  "kernelspec": {
   "display_name": "Python 3 (ipykernel)",
   "language": "python",
   "name": "python3"
  },
  "language_info": {
   "codemirror_mode": {
    "name": "ipython",
    "version": 3
   },
   "file_extension": ".py",
   "mimetype": "text/x-python",
   "name": "python",
   "nbconvert_exporter": "python",
   "pygments_lexer": "ipython3",
   "version": "3.8.8"
  }
 },
 "nbformat": 4,
 "nbformat_minor": 5
}
